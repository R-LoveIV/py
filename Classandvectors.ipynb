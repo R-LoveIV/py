{
 "cells": [
  {
   "cell_type": "code",
   "execution_count": 1,
   "id": "ab39badd-3c91-4756-9a2b-618d3337c097",
   "metadata": {},
   "outputs": [],
   "source": [
    "import numpy as np\n"
   ]
  },
  {
   "cell_type": "code",
   "execution_count": 2,
   "id": "3d41a0d5-7ece-4e5f-a927-51f524c290f0",
   "metadata": {},
   "outputs": [
    {
     "name": "stdout",
     "output_type": "stream",
     "text": [
      "47\n"
     ]
    }
   ],
   "source": [
    "a = 23\n",
    "b =24\n",
    "print(a+b)\n"
   ]
  },
  {
   "cell_type": "code",
   "execution_count": 3,
   "id": "686bd637-017f-4077-8864-c6be568f3409",
   "metadata": {},
   "outputs": [
    {
     "name": "stdout",
     "output_type": "stream",
     "text": [
      "Gold\n"
     ]
    }
   ],
   "source": [
    "class Car:\n",
    "    def __init__(self,brand,color):\n",
    "        self.brand = brand\n",
    "        self.color = color\n",
    "\n",
    "car1 = Car(\"Lexus\",\"Gold\")\n",
    "car2 = Car(\"Audi\", \"Silver\")\n",
    "\n",
    "print(car1.color)"
   ]
  },
  {
   "cell_type": "code",
   "execution_count": 4,
   "id": "9eee219b-5d53-4fed-9435-f439dc66ef33",
   "metadata": {},
   "outputs": [
    {
     "name": "stdout",
     "output_type": "stream",
     "text": [
      "Audi\n"
     ]
    }
   ],
   "source": [
    "print(car2.brand)"
   ]
  },
  {
   "cell_type": "code",
   "execution_count": 6,
   "id": "14fd1791-2f8c-4549-8377-eb22828cd9ec",
   "metadata": {},
   "outputs": [
    {
     "name": "stdout",
     "output_type": "stream",
     "text": [
      "[[20 30]\n",
      " [25 50]]\n"
     ]
    }
   ],
   "source": [
    "v = np.array([[20,30],[25,50]])\n",
    "s = np.array([[20]])\n",
    "\n",
    "print(v)"
   ]
  },
  {
   "cell_type": "code",
   "execution_count": 7,
   "id": "c08623d6-3370-49e1-baaa-8aec7109c5bd",
   "metadata": {},
   "outputs": [
    {
     "name": "stdout",
     "output_type": "stream",
     "text": [
      "[[20]]\n"
     ]
    }
   ],
   "source": [
    "print(s)"
   ]
  },
  {
   "cell_type": "code",
   "execution_count": 8,
   "id": "d0e16349-a283-42fe-9a41-916fc599342a",
   "metadata": {},
   "outputs": [
    {
     "name": "stdout",
     "output_type": "stream",
     "text": [
      "[[ 400  600]\n",
      " [ 500 1000]]\n"
     ]
    }
   ],
   "source": [
    "h = v * s\n",
    "print(h)"
   ]
  },
  {
   "cell_type": "code",
   "execution_count": null,
   "id": "8a083127-e25b-4623-b27b-b8f7d35bea51",
   "metadata": {},
   "outputs": [],
   "source": []
  }
 ],
 "metadata": {
  "kernelspec": {
   "display_name": "Python 3 (ipykernel)",
   "language": "python",
   "name": "python3"
  },
  "language_info": {
   "codemirror_mode": {
    "name": "ipython",
    "version": 3
   },
   "file_extension": ".py",
   "mimetype": "text/x-python",
   "name": "python",
   "nbconvert_exporter": "python",
   "pygments_lexer": "ipython3",
   "version": "3.8.18"
  }
 },
 "nbformat": 4,
 "nbformat_minor": 5
}
